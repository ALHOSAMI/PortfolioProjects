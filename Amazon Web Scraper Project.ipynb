{
 "cells": [
  {
   "cell_type": "code",
   "execution_count": 7,
   "id": "8a8c9f01",
   "metadata": {},
   "outputs": [],
   "source": [
    "#import libraries\n",
    "from bs4 import BeautifulSoup\n",
    "import requests \n",
    "import time \n",
    "import datetime\n",
    "\n",
    "import smtplib"
   ]
  },
  {
   "cell_type": "code",
   "execution_count": 112,
   "id": "2f104d5a",
   "metadata": {},
   "outputs": [
    {
     "name": "stdout",
     "output_type": "stream",
     "text": [
      "\n",
      "            3dRose Geeky Old School Pixels 8-Bit I Heart I Love Data Two Tone Mug, 11 oz, Black/White\n",
      "           \n",
      "\n",
      "\n",
      "\n",
      "\n",
      "\n",
      "              Price:\n",
      "             \n",
      "\n",
      "\n",
      "\n",
      "                $12.96\n",
      "               \n",
      "\n",
      "                $12.96\n",
      "               \n",
      "\n",
      "\n",
      "\n",
      "\n",
      "\n",
      "\n",
      "\n",
      "\n",
      "\n",
      "\n",
      "\n",
      "\n",
      "\n",
      "\n",
      "\n",
      "\n",
      "\n",
      "\n",
      "\n",
      "\n",
      "\n",
      "\n",
      "\n",
      "\n",
      "\n",
      "\n",
      "\n",
      "\n",
      "\n",
      "\n",
      "\n",
      "                4.6 out of 5 stars\n",
      "               \n",
      "\n",
      "\n",
      "\n",
      "\n",
      "\n",
      "\n",
      "\n",
      "\n",
      "\n",
      "\n",
      "\n",
      "\n",
      "\n",
      "\n",
      "             36 ratings\n",
      "            \n",
      "\n",
      "\n",
      "\n",
      "\n",
      "\n"
     ]
    }
   ],
   "source": [
    "# connect to website\n",
    "URL = 'https://www.amazon.com/3dRose-118876_4-Geeky-School-Pixels/dp/B013KTBWN6?ref_=pd_sn_dp_a2a_d_rs_dp_1&pd_rd_w=8jmtA&pf_rd_p=b505a0eb-5d9b-4c02-92dd-6dd268791207&pf_rd_r=C7F2YVCX86DRZ0GRBHN4&pd_rd_r=eadb2f0e-7a32-4d29-aaaa-89c7bec0b637&pd_rd_wg=o1Wmk'\n",
    "\n",
    "headers = {\"User-Agent\": \"Mozilla/5.0 (Windows NT 10.0; Win64; x64) AppleWebKit/537.36 (KHTML, like Gecko) Chrome/98.0.4758.102 Safari/537.36\", \"Accept-Encoding\":\"gzip, deflate\", \"Accept\":\"text/html,application/xhtml+xml,application/xml;q=0.9,*/*;q=0.8\", \"DNT\":\"1\",\"Connection\":\"close\", \"Upgrade-Insecure-Requests\":\"1\"}\n",
    "\n",
    "page = requests.get(URL, headers=headers)\n",
    "\n",
    "soup1 = BeautifulSoup(page.content, \"html.parser\")\n",
    "\n",
    "\n",
    "soup2 = BeautifulSoup(soup1.prettify(), \"html.parser\")\n",
    "\n",
    "title = soup2.find(id='productTitle').get_text()\n",
    "\n",
    "price = soup2.find(id = 'corePrice_desktop').get_text()\n",
    "\n",
    "ratings = soup2.find(id = 'averageCustomerReviews').get_text()\n",
    "\n",
    "print(title)\n",
    "print(price)\n",
    "print(ratings)\n",
    "\n",
    "\n",
    "\n"
   ]
  },
  {
   "cell_type": "code",
   "execution_count": 121,
   "id": "476274b9",
   "metadata": {},
   "outputs": [
    {
     "name": "stdout",
     "output_type": "stream",
     "text": [
      "price: $12.96\n"
     ]
    }
   ],
   "source": [
    "price= price.strip(\"Price:\")\n",
    "price= price.strip(\"$12.96\")\n",
    "price= price.strip()\n",
    "\n",
    "\n",
    "\n",
    "print(\"price:\", price)\n"
   ]
  },
  {
   "cell_type": "code",
   "execution_count": 122,
   "id": "2db5ca55",
   "metadata": {},
   "outputs": [
    {
     "name": "stdout",
     "output_type": "stream",
     "text": [
      "title: 3dRose Geeky Old School Pixels 8-Bit I Heart I Love Data Two Tone Mug, 11 oz, Black/White\n",
      "price: $12.96\n",
      "ratings: 4.6 out of 5 stars\n",
      "               \n",
      "\n",
      "\n",
      "\n",
      "\n",
      "\n",
      "\n",
      "\n",
      "\n",
      "\n",
      "\n",
      "\n",
      "\n",
      "\n",
      "\n",
      "\n"
     ]
    }
   ],
   "source": [
    "title = title.strip()\n",
    "ratings= ratings.strip(\"36 ratings\")\n",
    "\n",
    "print(\"title:\",title)\n",
    "print(\"price:\", price)\n",
    "print(\"ratings:\",ratings)"
   ]
  },
  {
   "cell_type": "code",
   "execution_count": 166,
   "id": "01c603aa",
   "metadata": {},
   "outputs": [
    {
     "name": "stdout",
     "output_type": "stream",
     "text": [
      "2022-03-03\n"
     ]
    }
   ],
   "source": [
    "import datetime\n",
    "\n",
    "today =datetime.date.today()\n",
    "print(today)"
   ]
  },
  {
   "cell_type": "code",
   "execution_count": 167,
   "id": "6b55672e",
   "metadata": {},
   "outputs": [],
   "source": [
    "import csv\n",
    "\n",
    "header = ['Date','Title', 'Price', 'Ratings']\n",
    "data = [today, title, price, ratings] \n",
    "\n",
    "#with open('AmazonWebScraperDataset.csv', 'w',newline='',encoding='UTF8') as f:\n",
    " #   writer= csv.writer(f)\n",
    "  #  writer.writerow(header)\n",
    "   # writer.writerow(data)\n",
    "\n",
    "\n"
   ]
  },
  {
   "cell_type": "code",
   "execution_count": 168,
   "id": "0bd80a8e",
   "metadata": {},
   "outputs": [
    {
     "name": "stdout",
     "output_type": "stream",
     "text": [
      "         Date                                              Title   Price  \\\n",
      "0  2022-03-03  3dRose Geeky Old School Pixels 8-Bit I Heart I...  $12.96   \n",
      "1  2022-03-03  3dRose Geeky Old School Pixels 8-Bit I Heart I...  $12.96   \n",
      "2  2022-03-03  3dRose Geeky Old School Pixels 8-Bit I Heart I...  $12.96   \n",
      "3  2022-03-03  3dRose Geeky Old School Pixels 8-Bit I Heart I...  $12.96   \n",
      "4  2022-03-03  3dRose Geeky Old School Pixels 8-Bit I Heart I...  $12.96   \n",
      "5  2022-03-03  3dRose Geeky Old School Pixels 8-Bit I Heart I...  $12.96   \n",
      "\n",
      "                                             Ratings  \n",
      "0  4.6 out of 5 stars\\n               \\n\\n\\n\\n\\n\\...  \n",
      "1  4.6 out of 5 stars\\n               \\n\\n\\n\\n\\n\\...  \n",
      "2  4.6 out of 5 stars\\n               \\n\\n\\n\\n\\n\\...  \n",
      "3  4.6 out of 5 stars\\n               \\n\\n\\n\\n\\n\\...  \n",
      "4  4.6 out of 5 stars\\n               \\n\\n\\n\\n\\n\\...  \n",
      "5  4.6 out of 5 stars\\n               \\n\\n\\n\\n\\n\\...  \n"
     ]
    }
   ],
   "source": [
    "import pandas as pd \n",
    "df=pd.read_csv(r'C:\\Users\\Admin\\Downloads\\AmazonWebScraperDataset.csv')\n",
    "print(df)\n"
   ]
  },
  {
   "cell_type": "code",
   "execution_count": 169,
   "id": "08ba2db9",
   "metadata": {},
   "outputs": [],
   "source": [
    "#now we are appending data to csv\n",
    "with open('AmazonWebScraperDataset.csv', 'a+',newline='',encoding='UTF8') as f:\n",
    "    writer= csv.writer(f)\n",
    "    writer.writerow(data)\n",
    "    \n",
    "    \n",
    "    "
   ]
  },
  {
   "cell_type": "code",
   "execution_count": 176,
   "id": "0267ca79",
   "metadata": {},
   "outputs": [],
   "source": [
    "def check_price():\n",
    "    URL = 'https://www.amazon.com/3dRose-118876_4-Geeky-School-Pixels/dp/B013KTBWN6?ref_=pd_sn_dp_a2a_d_rs_dp_1&pd_rd_w=8jmtA&pf_rd_p=b505a0eb-5d9b-4c02-92dd-6dd268791207&pf_rd_r=C7F2YVCX86DRZ0GRBHN4&pd_rd_r=eadb2f0e-7a32-4d29-aaaa-89c7bec0b637&pd_rd_wg=o1Wmk'\n",
    "\n",
    "    headers = {\"User-Agent\": \"Mozilla/5.0 (Windows NT 10.0; Win64; x64) AppleWebKit/537.36 (KHTML, like Gecko) Chrome/98.0.4758.102 Safari/537.36\", \"Accept-Encoding\":\"gzip, deflate\", \"Accept\":\"text/html,application/xhtml+xml,application/xml;q=0.9,*/*;q=0.8\", \"DNT\":\"1\",\"Connection\":\"close\", \"Upgrade-Insecure-Requests\":\"1\"}\n",
    "\n",
    "    page = requests.get(URL, headers=headers)\n",
    "\n",
    "    soup1 = BeautifulSoup(page.content, \"html.parser\")\n",
    "\n",
    "\n",
    "    soup2 = BeautifulSoup(soup1.prettify(), \"html.parser\")\n",
    "\n",
    "    title = soup2.find(id='productTitle').get_text()\n",
    "\n",
    "    price = soup2.find(id = 'corePrice_desktop').get_text()\n",
    "\n",
    "    ratings = soup2.find(id = 'averageCustomerReviews').get_text()\n",
    "    \n",
    "    price= price.strip(\"Price:\")\n",
    "    price= price.strip(\"$12.96\")\n",
    "    price= price.strip()\n",
    "    title = title.strip()\n",
    "    ratings= ratings.strip(\"36 ratings\")\n",
    "    \n",
    "    import datetime\n",
    "\n",
    "    today =datetime.date.today()\n",
    "    print(today)\n",
    "    \n",
    "    import csv\n",
    "\n",
    "    header = ['Date','Title', 'Price', 'Ratings']\n",
    "    data = [today, title, price, ratings] \n",
    "    \n",
    "    with open('AmazonWebScraperDataset.csv', 'a+',newline='',encoding='UTF8') as f:\n",
    "        writer= csv.writer(f)\n",
    "        writer.writerow(data)\n"
   ]
  },
  {
   "cell_type": "code",
   "execution_count": null,
   "id": "34c31fe8",
   "metadata": {},
   "outputs": [
    {
     "name": "stdout",
     "output_type": "stream",
     "text": [
      "2022-03-03\n"
     ]
    }
   ],
   "source": [
    "# Runs check_price after a set time and inputs data into your CSV\n",
    "\n",
    "while(True):\n",
    "    check_price()\n",
    "    time.sleep(86400)"
   ]
  },
  {
   "cell_type": "code",
   "execution_count": 175,
   "id": "f725933b",
   "metadata": {},
   "outputs": [
    {
     "name": "stdout",
     "output_type": "stream",
     "text": [
      "         Date                                              Title   Price  \\\n",
      "0  2022-03-03  3dRose Geeky Old School Pixels 8-Bit I Heart I...  $12.96   \n",
      "1  2022-03-03  3dRose Geeky Old School Pixels 8-Bit I Heart I...  $12.96   \n",
      "2  2022-03-03  3dRose Geeky Old School Pixels 8-Bit I Heart I...  $12.96   \n",
      "3  2022-03-03  3dRose Geeky Old School Pixels 8-Bit I Heart I...  $12.96   \n",
      "4  2022-03-03  3dRose Geeky Old School Pixels 8-Bit I Heart I...  $12.96   \n",
      "5  2022-03-03  3dRose Geeky Old School Pixels 8-Bit I Heart I...  $12.96   \n",
      "\n",
      "                                             Ratings  \n",
      "0  4.6 out of 5 stars\\n               \\n\\n\\n\\n\\n\\...  \n",
      "1  4.6 out of 5 stars\\n               \\n\\n\\n\\n\\n\\...  \n",
      "2  4.6 out of 5 stars\\n               \\n\\n\\n\\n\\n\\...  \n",
      "3  4.6 out of 5 stars\\n               \\n\\n\\n\\n\\n\\...  \n",
      "4  4.6 out of 5 stars\\n               \\n\\n\\n\\n\\n\\...  \n",
      "5  4.6 out of 5 stars\\n               \\n\\n\\n\\n\\n\\...  \n"
     ]
    }
   ],
   "source": [
    "import pandas as pd \n",
    "df=pd.read_csv(r'C:\\Users\\Admin\\Downloads\\AmazonWebScraperDataset.csv')\n",
    "print(df)\n"
   ]
  },
  {
   "cell_type": "code",
   "execution_count": null,
   "id": "15e459df",
   "metadata": {},
   "outputs": [],
   "source": []
  }
 ],
 "metadata": {
  "kernelspec": {
   "display_name": "Python 3 (ipykernel)",
   "language": "python",
   "name": "python3"
  },
  "language_info": {
   "codemirror_mode": {
    "name": "ipython",
    "version": 3
   },
   "file_extension": ".py",
   "mimetype": "text/x-python",
   "name": "python",
   "nbconvert_exporter": "python",
   "pygments_lexer": "ipython3",
   "version": "3.9.7"
  }
 },
 "nbformat": 4,
 "nbformat_minor": 5
}
